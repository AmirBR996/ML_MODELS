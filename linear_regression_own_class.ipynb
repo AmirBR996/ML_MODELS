{
  "nbformat": 4,
  "nbformat_minor": 0,
  "metadata": {
    "colab": {
      "provenance": []
    },
    "kernelspec": {
      "name": "python3",
      "display_name": "Python 3"
    },
    "language_info": {
      "name": "python"
    }
  },
  "cells": [
    {
      "cell_type": "code",
      "execution_count": 1,
      "metadata": {
        "colab": {
          "base_uri": "https://localhost:8080/",
          "height": 130
        },
        "id": "fiyH0qm4zMPD",
        "outputId": "d4f8afc7-b6e4-47f3-de6b-4c208b7f241f"
      },
      "outputs": [
        {
          "output_type": "display_data",
          "data": {
            "text/plain": [
              "<IPython.core.display.HTML object>"
            ],
            "text/html": [
              "\n",
              "     <input type=\"file\" id=\"files-776287b8-0ff4-4773-9b9f-7d2435edcc04\" name=\"files[]\" multiple disabled\n",
              "        style=\"border:none\" />\n",
              "     <output id=\"result-776287b8-0ff4-4773-9b9f-7d2435edcc04\">\n",
              "      Upload widget is only available when the cell has been executed in the\n",
              "      current browser session. Please rerun this cell to enable.\n",
              "      </output>\n",
              "      <script>// Copyright 2017 Google LLC\n",
              "//\n",
              "// Licensed under the Apache License, Version 2.0 (the \"License\");\n",
              "// you may not use this file except in compliance with the License.\n",
              "// You may obtain a copy of the License at\n",
              "//\n",
              "//      http://www.apache.org/licenses/LICENSE-2.0\n",
              "//\n",
              "// Unless required by applicable law or agreed to in writing, software\n",
              "// distributed under the License is distributed on an \"AS IS\" BASIS,\n",
              "// WITHOUT WARRANTIES OR CONDITIONS OF ANY KIND, either express or implied.\n",
              "// See the License for the specific language governing permissions and\n",
              "// limitations under the License.\n",
              "\n",
              "/**\n",
              " * @fileoverview Helpers for google.colab Python module.\n",
              " */\n",
              "(function(scope) {\n",
              "function span(text, styleAttributes = {}) {\n",
              "  const element = document.createElement('span');\n",
              "  element.textContent = text;\n",
              "  for (const key of Object.keys(styleAttributes)) {\n",
              "    element.style[key] = styleAttributes[key];\n",
              "  }\n",
              "  return element;\n",
              "}\n",
              "\n",
              "// Max number of bytes which will be uploaded at a time.\n",
              "const MAX_PAYLOAD_SIZE = 100 * 1024;\n",
              "\n",
              "function _uploadFiles(inputId, outputId) {\n",
              "  const steps = uploadFilesStep(inputId, outputId);\n",
              "  const outputElement = document.getElementById(outputId);\n",
              "  // Cache steps on the outputElement to make it available for the next call\n",
              "  // to uploadFilesContinue from Python.\n",
              "  outputElement.steps = steps;\n",
              "\n",
              "  return _uploadFilesContinue(outputId);\n",
              "}\n",
              "\n",
              "// This is roughly an async generator (not supported in the browser yet),\n",
              "// where there are multiple asynchronous steps and the Python side is going\n",
              "// to poll for completion of each step.\n",
              "// This uses a Promise to block the python side on completion of each step,\n",
              "// then passes the result of the previous step as the input to the next step.\n",
              "function _uploadFilesContinue(outputId) {\n",
              "  const outputElement = document.getElementById(outputId);\n",
              "  const steps = outputElement.steps;\n",
              "\n",
              "  const next = steps.next(outputElement.lastPromiseValue);\n",
              "  return Promise.resolve(next.value.promise).then((value) => {\n",
              "    // Cache the last promise value to make it available to the next\n",
              "    // step of the generator.\n",
              "    outputElement.lastPromiseValue = value;\n",
              "    return next.value.response;\n",
              "  });\n",
              "}\n",
              "\n",
              "/**\n",
              " * Generator function which is called between each async step of the upload\n",
              " * process.\n",
              " * @param {string} inputId Element ID of the input file picker element.\n",
              " * @param {string} outputId Element ID of the output display.\n",
              " * @return {!Iterable<!Object>} Iterable of next steps.\n",
              " */\n",
              "function* uploadFilesStep(inputId, outputId) {\n",
              "  const inputElement = document.getElementById(inputId);\n",
              "  inputElement.disabled = false;\n",
              "\n",
              "  const outputElement = document.getElementById(outputId);\n",
              "  outputElement.innerHTML = '';\n",
              "\n",
              "  const pickedPromise = new Promise((resolve) => {\n",
              "    inputElement.addEventListener('change', (e) => {\n",
              "      resolve(e.target.files);\n",
              "    });\n",
              "  });\n",
              "\n",
              "  const cancel = document.createElement('button');\n",
              "  inputElement.parentElement.appendChild(cancel);\n",
              "  cancel.textContent = 'Cancel upload';\n",
              "  const cancelPromise = new Promise((resolve) => {\n",
              "    cancel.onclick = () => {\n",
              "      resolve(null);\n",
              "    };\n",
              "  });\n",
              "\n",
              "  // Wait for the user to pick the files.\n",
              "  const files = yield {\n",
              "    promise: Promise.race([pickedPromise, cancelPromise]),\n",
              "    response: {\n",
              "      action: 'starting',\n",
              "    }\n",
              "  };\n",
              "\n",
              "  cancel.remove();\n",
              "\n",
              "  // Disable the input element since further picks are not allowed.\n",
              "  inputElement.disabled = true;\n",
              "\n",
              "  if (!files) {\n",
              "    return {\n",
              "      response: {\n",
              "        action: 'complete',\n",
              "      }\n",
              "    };\n",
              "  }\n",
              "\n",
              "  for (const file of files) {\n",
              "    const li = document.createElement('li');\n",
              "    li.append(span(file.name, {fontWeight: 'bold'}));\n",
              "    li.append(span(\n",
              "        `(${file.type || 'n/a'}) - ${file.size} bytes, ` +\n",
              "        `last modified: ${\n",
              "            file.lastModifiedDate ? file.lastModifiedDate.toLocaleDateString() :\n",
              "                                    'n/a'} - `));\n",
              "    const percent = span('0% done');\n",
              "    li.appendChild(percent);\n",
              "\n",
              "    outputElement.appendChild(li);\n",
              "\n",
              "    const fileDataPromise = new Promise((resolve) => {\n",
              "      const reader = new FileReader();\n",
              "      reader.onload = (e) => {\n",
              "        resolve(e.target.result);\n",
              "      };\n",
              "      reader.readAsArrayBuffer(file);\n",
              "    });\n",
              "    // Wait for the data to be ready.\n",
              "    let fileData = yield {\n",
              "      promise: fileDataPromise,\n",
              "      response: {\n",
              "        action: 'continue',\n",
              "      }\n",
              "    };\n",
              "\n",
              "    // Use a chunked sending to avoid message size limits. See b/62115660.\n",
              "    let position = 0;\n",
              "    do {\n",
              "      const length = Math.min(fileData.byteLength - position, MAX_PAYLOAD_SIZE);\n",
              "      const chunk = new Uint8Array(fileData, position, length);\n",
              "      position += length;\n",
              "\n",
              "      const base64 = btoa(String.fromCharCode.apply(null, chunk));\n",
              "      yield {\n",
              "        response: {\n",
              "          action: 'append',\n",
              "          file: file.name,\n",
              "          data: base64,\n",
              "        },\n",
              "      };\n",
              "\n",
              "      let percentDone = fileData.byteLength === 0 ?\n",
              "          100 :\n",
              "          Math.round((position / fileData.byteLength) * 100);\n",
              "      percent.textContent = `${percentDone}% done`;\n",
              "\n",
              "    } while (position < fileData.byteLength);\n",
              "  }\n",
              "\n",
              "  // All done.\n",
              "  yield {\n",
              "    response: {\n",
              "      action: 'complete',\n",
              "    }\n",
              "  };\n",
              "}\n",
              "\n",
              "scope.google = scope.google || {};\n",
              "scope.google.colab = scope.google.colab || {};\n",
              "scope.google.colab._files = {\n",
              "  _uploadFiles,\n",
              "  _uploadFilesContinue,\n",
              "};\n",
              "})(self);\n",
              "</script> "
            ]
          },
          "metadata": {}
        },
        {
          "output_type": "stream",
          "name": "stdout",
          "text": [
            "Saving placement.csv to placement.csv\n"
          ]
        },
        {
          "output_type": "execute_result",
          "data": {
            "text/plain": [
              "{'placement.csv': b'cgpa,package\\r\\n6.89,3.26\\r\\n5.12,1.98\\r\\n7.82,3.25\\r\\n7.42,3.67\\r\\n6.94,3.57\\r\\n7.89,2.99\\r\\n6.73,2.6\\r\\n6.75,2.48\\r\\n6.09,2.31\\r\\n8.31,3.51\\r\\n5.32,1.86\\r\\n6.61,2.6\\r\\n8.94,3.65\\r\\n6.93,2.89\\r\\n7.73,3.42\\r\\n7.25,3.23\\r\\n6.84,2.35\\r\\n5.38,2.09\\r\\n6.94,2.98\\r\\n7.48,2.83\\r\\n7.28,3.16\\r\\n6.85,2.93\\r\\n6.14,2.3\\r\\n6.19,2.48\\r\\n6.53,2.71\\r\\n7.28,3.65\\r\\n8.31,3.42\\r\\n5.42,2.16\\r\\n5.94,2.24\\r\\n7.15,3.49\\r\\n7.36,3.26\\r\\n8.1,3.89\\r\\n6.96,3.08\\r\\n6.35,2.73\\r\\n7.34,3.42\\r\\n6.87,2.87\\r\\n5.99,2.84\\r\\n5.9,2.43\\r\\n8.62,4.36\\r\\n7.43,3.33\\r\\n9.38,4.02\\r\\n6.89,2.7\\r\\n5.95,2.54\\r\\n7.66,2.76\\r\\n5.09,1.86\\r\\n7.87,3.58\\r\\n6.07,2.26\\r\\n5.84,3.26\\r\\n8.63,4.09\\r\\n8.87,4.62\\r\\n9.58,4.43\\r\\n9.26,3.79\\r\\n8.37,4.11\\r\\n6.47,2.61\\r\\n6.86,3.09\\r\\n8.2,3.39\\r\\n5.84,2.74\\r\\n6.6,1.94\\r\\n6.92,3.09\\r\\n7.56,3.31\\r\\n5.61,2.19\\r\\n5.48,1.61\\r\\n6.34,2.09\\r\\n9.16,4.25\\r\\n7.36,2.92\\r\\n7.6,3.81\\r\\n5.11,1.63\\r\\n6.51,2.89\\r\\n7.56,2.99\\r\\n7.3,2.94\\r\\n5.79,2.35\\r\\n7.47,3.34\\r\\n7.78,3.62\\r\\n8.44,4.03\\r\\n6.85,3.44\\r\\n6.97,3.28\\r\\n6.94,3.15\\r\\n8.99,4.6\\r\\n6.59,2.21\\r\\n7.18,3.0\\r\\n7.63,3.44\\r\\n6.1,2.2\\r\\n5.58,2.17\\r\\n8.44,3.49\\r\\n4.26,1.53\\r\\n4.79,1.48\\r\\n7.61,2.77\\r\\n8.09,3.55\\r\\n4.73,1.48\\r\\n6.42,2.72\\r\\n7.11,2.66\\r\\n6.22,2.14\\r\\n7.9,4.0\\r\\n6.79,3.08\\r\\n5.83,2.42\\r\\n6.63,2.79\\r\\n7.11,2.61\\r\\n5.98,2.84\\r\\n7.69,3.83\\r\\n6.61,3.24\\r\\n7.95,4.14\\r\\n6.71,3.52\\r\\n5.13,1.37\\r\\n7.05,3.0\\r\\n7.62,3.74\\r\\n6.66,2.82\\r\\n6.13,2.19\\r\\n6.33,2.59\\r\\n7.76,3.54\\r\\n7.77,4.06\\r\\n8.18,3.76\\r\\n5.42,2.25\\r\\n8.58,4.1\\r\\n6.94,2.37\\r\\n5.84,1.87\\r\\n8.35,4.21\\r\\n9.04,3.33\\r\\n7.12,2.99\\r\\n7.4,2.88\\r\\n7.39,2.65\\r\\n5.23,1.73\\r\\n6.5,3.02\\r\\n5.12,2.01\\r\\n5.1,2.3\\r\\n6.06,2.31\\r\\n7.33,3.16\\r\\n5.91,2.6\\r\\n6.78,3.11\\r\\n7.93,3.34\\r\\n7.29,3.12\\r\\n6.68,2.49\\r\\n6.37,2.01\\r\\n5.84,2.48\\r\\n6.05,2.58\\r\\n7.2,2.83\\r\\n6.1,2.6\\r\\n5.64,2.1\\r\\n7.14,3.13\\r\\n7.91,3.89\\r\\n7.19,2.4\\r\\n7.91,3.15\\r\\n6.76,3.18\\r\\n6.93,3.04\\r\\n4.85,1.54\\r\\n6.17,2.42\\r\\n5.84,2.18\\r\\n6.07,2.46\\r\\n5.66,2.21\\r\\n7.57,3.4\\r\\n8.28,3.67\\r\\n6.3,2.73\\r\\n6.12,2.76\\r\\n7.37,3.08\\r\\n7.94,3.99\\r\\n7.08,2.85\\r\\n6.98,3.09\\r\\n7.38,3.13\\r\\n6.47,2.7\\r\\n5.95,3.04\\r\\n8.71,4.08\\r\\n7.13,2.93\\r\\n7.3,3.33\\r\\n5.53,2.55\\r\\n8.93,3.91\\r\\n9.06,3.82\\r\\n8.21,4.08\\r\\n8.6,3.98\\r\\n8.13,3.6\\r\\n8.65,3.52\\r\\n9.31,4.37\\r\\n6.22,2.87\\r\\n8.01,3.76\\r\\n6.93,2.51\\r\\n6.75,2.56\\r\\n7.32,2.99\\r\\n7.04,3.5\\r\\n6.29,3.23\\r\\n7.09,3.64\\r\\n8.15,3.63\\r\\n7.14,3.03\\r\\n6.19,2.72\\r\\n8.22,3.89\\r\\n5.88,2.08\\r\\n7.28,2.72\\r\\n7.88,3.14\\r\\n6.31,3.18\\r\\n7.84,3.47\\r\\n6.26,2.44\\r\\n7.35,3.08\\r\\n8.11,4.06\\r\\n6.19,2.69\\r\\n7.28,3.48\\r\\n8.25,3.75\\r\\n4.57,1.94\\r\\n7.89,3.67\\r\\n6.93,2.46\\r\\n5.89,2.57\\r\\n7.21,3.24\\r\\n7.63,3.96\\r\\n6.22,2.33\\r\\n'}"
            ]
          },
          "metadata": {},
          "execution_count": 1
        }
      ],
      "source": [
        "import pandas as pd\n",
        "import numpy as np\n",
        "from google.colab import files\n",
        "files.upload()"
      ]
    },
    {
      "cell_type": "code",
      "source": [
        "df = pd.read_csv(\"placement.csv\")\n",
        "df.head()"
      ],
      "metadata": {
        "colab": {
          "base_uri": "https://localhost:8080/",
          "height": 206
        },
        "id": "kE1Gaw3DzeFO",
        "outputId": "2f49524c-bd29-49c1-bd0c-50469249a71f"
      },
      "execution_count": 2,
      "outputs": [
        {
          "output_type": "execute_result",
          "data": {
            "text/plain": [
              "   cgpa  package\n",
              "0  6.89     3.26\n",
              "1  5.12     1.98\n",
              "2  7.82     3.25\n",
              "3  7.42     3.67\n",
              "4  6.94     3.57"
            ],
            "text/html": [
              "\n",
              "  <div id=\"df-c4fe1168-4b41-4192-9707-9e55a7009d21\" class=\"colab-df-container\">\n",
              "    <div>\n",
              "<style scoped>\n",
              "    .dataframe tbody tr th:only-of-type {\n",
              "        vertical-align: middle;\n",
              "    }\n",
              "\n",
              "    .dataframe tbody tr th {\n",
              "        vertical-align: top;\n",
              "    }\n",
              "\n",
              "    .dataframe thead th {\n",
              "        text-align: right;\n",
              "    }\n",
              "</style>\n",
              "<table border=\"1\" class=\"dataframe\">\n",
              "  <thead>\n",
              "    <tr style=\"text-align: right;\">\n",
              "      <th></th>\n",
              "      <th>cgpa</th>\n",
              "      <th>package</th>\n",
              "    </tr>\n",
              "  </thead>\n",
              "  <tbody>\n",
              "    <tr>\n",
              "      <th>0</th>\n",
              "      <td>6.89</td>\n",
              "      <td>3.26</td>\n",
              "    </tr>\n",
              "    <tr>\n",
              "      <th>1</th>\n",
              "      <td>5.12</td>\n",
              "      <td>1.98</td>\n",
              "    </tr>\n",
              "    <tr>\n",
              "      <th>2</th>\n",
              "      <td>7.82</td>\n",
              "      <td>3.25</td>\n",
              "    </tr>\n",
              "    <tr>\n",
              "      <th>3</th>\n",
              "      <td>7.42</td>\n",
              "      <td>3.67</td>\n",
              "    </tr>\n",
              "    <tr>\n",
              "      <th>4</th>\n",
              "      <td>6.94</td>\n",
              "      <td>3.57</td>\n",
              "    </tr>\n",
              "  </tbody>\n",
              "</table>\n",
              "</div>\n",
              "    <div class=\"colab-df-buttons\">\n",
              "\n",
              "  <div class=\"colab-df-container\">\n",
              "    <button class=\"colab-df-convert\" onclick=\"convertToInteractive('df-c4fe1168-4b41-4192-9707-9e55a7009d21')\"\n",
              "            title=\"Convert this dataframe to an interactive table.\"\n",
              "            style=\"display:none;\">\n",
              "\n",
              "  <svg xmlns=\"http://www.w3.org/2000/svg\" height=\"24px\" viewBox=\"0 -960 960 960\">\n",
              "    <path d=\"M120-120v-720h720v720H120Zm60-500h600v-160H180v160Zm220 220h160v-160H400v160Zm0 220h160v-160H400v160ZM180-400h160v-160H180v160Zm440 0h160v-160H620v160ZM180-180h160v-160H180v160Zm440 0h160v-160H620v160Z\"/>\n",
              "  </svg>\n",
              "    </button>\n",
              "\n",
              "  <style>\n",
              "    .colab-df-container {\n",
              "      display:flex;\n",
              "      gap: 12px;\n",
              "    }\n",
              "\n",
              "    .colab-df-convert {\n",
              "      background-color: #E8F0FE;\n",
              "      border: none;\n",
              "      border-radius: 50%;\n",
              "      cursor: pointer;\n",
              "      display: none;\n",
              "      fill: #1967D2;\n",
              "      height: 32px;\n",
              "      padding: 0 0 0 0;\n",
              "      width: 32px;\n",
              "    }\n",
              "\n",
              "    .colab-df-convert:hover {\n",
              "      background-color: #E2EBFA;\n",
              "      box-shadow: 0px 1px 2px rgba(60, 64, 67, 0.3), 0px 1px 3px 1px rgba(60, 64, 67, 0.15);\n",
              "      fill: #174EA6;\n",
              "    }\n",
              "\n",
              "    .colab-df-buttons div {\n",
              "      margin-bottom: 4px;\n",
              "    }\n",
              "\n",
              "    [theme=dark] .colab-df-convert {\n",
              "      background-color: #3B4455;\n",
              "      fill: #D2E3FC;\n",
              "    }\n",
              "\n",
              "    [theme=dark] .colab-df-convert:hover {\n",
              "      background-color: #434B5C;\n",
              "      box-shadow: 0px 1px 3px 1px rgba(0, 0, 0, 0.15);\n",
              "      filter: drop-shadow(0px 1px 2px rgba(0, 0, 0, 0.3));\n",
              "      fill: #FFFFFF;\n",
              "    }\n",
              "  </style>\n",
              "\n",
              "    <script>\n",
              "      const buttonEl =\n",
              "        document.querySelector('#df-c4fe1168-4b41-4192-9707-9e55a7009d21 button.colab-df-convert');\n",
              "      buttonEl.style.display =\n",
              "        google.colab.kernel.accessAllowed ? 'block' : 'none';\n",
              "\n",
              "      async function convertToInteractive(key) {\n",
              "        const element = document.querySelector('#df-c4fe1168-4b41-4192-9707-9e55a7009d21');\n",
              "        const dataTable =\n",
              "          await google.colab.kernel.invokeFunction('convertToInteractive',\n",
              "                                                    [key], {});\n",
              "        if (!dataTable) return;\n",
              "\n",
              "        const docLinkHtml = 'Like what you see? Visit the ' +\n",
              "          '<a target=\"_blank\" href=https://colab.research.google.com/notebooks/data_table.ipynb>data table notebook</a>'\n",
              "          + ' to learn more about interactive tables.';\n",
              "        element.innerHTML = '';\n",
              "        dataTable['output_type'] = 'display_data';\n",
              "        await google.colab.output.renderOutput(dataTable, element);\n",
              "        const docLink = document.createElement('div');\n",
              "        docLink.innerHTML = docLinkHtml;\n",
              "        element.appendChild(docLink);\n",
              "      }\n",
              "    </script>\n",
              "  </div>\n",
              "\n",
              "\n",
              "    <div id=\"df-50465639-a9c9-4402-be81-f37f335e93b1\">\n",
              "      <button class=\"colab-df-quickchart\" onclick=\"quickchart('df-50465639-a9c9-4402-be81-f37f335e93b1')\"\n",
              "                title=\"Suggest charts\"\n",
              "                style=\"display:none;\">\n",
              "\n",
              "<svg xmlns=\"http://www.w3.org/2000/svg\" height=\"24px\"viewBox=\"0 0 24 24\"\n",
              "     width=\"24px\">\n",
              "    <g>\n",
              "        <path d=\"M19 3H5c-1.1 0-2 .9-2 2v14c0 1.1.9 2 2 2h14c1.1 0 2-.9 2-2V5c0-1.1-.9-2-2-2zM9 17H7v-7h2v7zm4 0h-2V7h2v10zm4 0h-2v-4h2v4z\"/>\n",
              "    </g>\n",
              "</svg>\n",
              "      </button>\n",
              "\n",
              "<style>\n",
              "  .colab-df-quickchart {\n",
              "      --bg-color: #E8F0FE;\n",
              "      --fill-color: #1967D2;\n",
              "      --hover-bg-color: #E2EBFA;\n",
              "      --hover-fill-color: #174EA6;\n",
              "      --disabled-fill-color: #AAA;\n",
              "      --disabled-bg-color: #DDD;\n",
              "  }\n",
              "\n",
              "  [theme=dark] .colab-df-quickchart {\n",
              "      --bg-color: #3B4455;\n",
              "      --fill-color: #D2E3FC;\n",
              "      --hover-bg-color: #434B5C;\n",
              "      --hover-fill-color: #FFFFFF;\n",
              "      --disabled-bg-color: #3B4455;\n",
              "      --disabled-fill-color: #666;\n",
              "  }\n",
              "\n",
              "  .colab-df-quickchart {\n",
              "    background-color: var(--bg-color);\n",
              "    border: none;\n",
              "    border-radius: 50%;\n",
              "    cursor: pointer;\n",
              "    display: none;\n",
              "    fill: var(--fill-color);\n",
              "    height: 32px;\n",
              "    padding: 0;\n",
              "    width: 32px;\n",
              "  }\n",
              "\n",
              "  .colab-df-quickchart:hover {\n",
              "    background-color: var(--hover-bg-color);\n",
              "    box-shadow: 0 1px 2px rgba(60, 64, 67, 0.3), 0 1px 3px 1px rgba(60, 64, 67, 0.15);\n",
              "    fill: var(--button-hover-fill-color);\n",
              "  }\n",
              "\n",
              "  .colab-df-quickchart-complete:disabled,\n",
              "  .colab-df-quickchart-complete:disabled:hover {\n",
              "    background-color: var(--disabled-bg-color);\n",
              "    fill: var(--disabled-fill-color);\n",
              "    box-shadow: none;\n",
              "  }\n",
              "\n",
              "  .colab-df-spinner {\n",
              "    border: 2px solid var(--fill-color);\n",
              "    border-color: transparent;\n",
              "    border-bottom-color: var(--fill-color);\n",
              "    animation:\n",
              "      spin 1s steps(1) infinite;\n",
              "  }\n",
              "\n",
              "  @keyframes spin {\n",
              "    0% {\n",
              "      border-color: transparent;\n",
              "      border-bottom-color: var(--fill-color);\n",
              "      border-left-color: var(--fill-color);\n",
              "    }\n",
              "    20% {\n",
              "      border-color: transparent;\n",
              "      border-left-color: var(--fill-color);\n",
              "      border-top-color: var(--fill-color);\n",
              "    }\n",
              "    30% {\n",
              "      border-color: transparent;\n",
              "      border-left-color: var(--fill-color);\n",
              "      border-top-color: var(--fill-color);\n",
              "      border-right-color: var(--fill-color);\n",
              "    }\n",
              "    40% {\n",
              "      border-color: transparent;\n",
              "      border-right-color: var(--fill-color);\n",
              "      border-top-color: var(--fill-color);\n",
              "    }\n",
              "    60% {\n",
              "      border-color: transparent;\n",
              "      border-right-color: var(--fill-color);\n",
              "    }\n",
              "    80% {\n",
              "      border-color: transparent;\n",
              "      border-right-color: var(--fill-color);\n",
              "      border-bottom-color: var(--fill-color);\n",
              "    }\n",
              "    90% {\n",
              "      border-color: transparent;\n",
              "      border-bottom-color: var(--fill-color);\n",
              "    }\n",
              "  }\n",
              "</style>\n",
              "\n",
              "      <script>\n",
              "        async function quickchart(key) {\n",
              "          const quickchartButtonEl =\n",
              "            document.querySelector('#' + key + ' button');\n",
              "          quickchartButtonEl.disabled = true;  // To prevent multiple clicks.\n",
              "          quickchartButtonEl.classList.add('colab-df-spinner');\n",
              "          try {\n",
              "            const charts = await google.colab.kernel.invokeFunction(\n",
              "                'suggestCharts', [key], {});\n",
              "          } catch (error) {\n",
              "            console.error('Error during call to suggestCharts:', error);\n",
              "          }\n",
              "          quickchartButtonEl.classList.remove('colab-df-spinner');\n",
              "          quickchartButtonEl.classList.add('colab-df-quickchart-complete');\n",
              "        }\n",
              "        (() => {\n",
              "          let quickchartButtonEl =\n",
              "            document.querySelector('#df-50465639-a9c9-4402-be81-f37f335e93b1 button');\n",
              "          quickchartButtonEl.style.display =\n",
              "            google.colab.kernel.accessAllowed ? 'block' : 'none';\n",
              "        })();\n",
              "      </script>\n",
              "    </div>\n",
              "\n",
              "    </div>\n",
              "  </div>\n"
            ],
            "application/vnd.google.colaboratory.intrinsic+json": {
              "type": "dataframe",
              "variable_name": "df",
              "summary": "{\n  \"name\": \"df\",\n  \"rows\": 200,\n  \"fields\": [\n    {\n      \"column\": \"cgpa\",\n      \"properties\": {\n        \"dtype\": \"number\",\n        \"std\": 1.0694086798895523,\n        \"min\": 4.26,\n        \"max\": 9.58,\n        \"num_unique_values\": 163,\n        \"samples\": [\n          8.71,\n          6.37,\n          7.94\n        ],\n        \"semantic_type\": \"\",\n        \"description\": \"\"\n      }\n    },\n    {\n      \"column\": \"package\",\n      \"properties\": {\n        \"dtype\": \"number\",\n        \"std\": 0.6916442411250219,\n        \"min\": 1.37,\n        \"max\": 4.62,\n        \"num_unique_values\": 138,\n        \"samples\": [\n          3.76,\n          3.13,\n          2.89\n        ],\n        \"semantic_type\": \"\",\n        \"description\": \"\"\n      }\n    }\n  ]\n}"
            }
          },
          "metadata": {},
          "execution_count": 2
        }
      ]
    },
    {
      "cell_type": "code",
      "source": [
        "import matplotlib.pyplot as plt\n",
        "plt.title(\"Linear Regression\")\n",
        "plt.xlabel(\"CGPA\")\n",
        "plt.ylabel(\"Package\")\n",
        "plt.scatter(df['cgpa'],df['package'],color = 'green')"
      ],
      "metadata": {
        "colab": {
          "base_uri": "https://localhost:8080/",
          "height": 490
        },
        "id": "f2sPVWKazkcx",
        "outputId": "e47dff22-6b72-4456-e16a-e5e98250d201"
      },
      "execution_count": 3,
      "outputs": [
        {
          "output_type": "execute_result",
          "data": {
            "text/plain": [
              "<matplotlib.collections.PathCollection at 0x7dbf7ed41f10>"
            ]
          },
          "metadata": {},
          "execution_count": 3
        },
        {
          "output_type": "display_data",
          "data": {
            "text/plain": [
              "<Figure size 640x480 with 1 Axes>"
            ],
            "image/png": "[encoded data removed]"
          },
          "metadata": {}
        }
      ]
    },
    {
      "cell_type": "code",
      "source": [
        "from sklearn.model_selection import train_test_split\n",
        "x_train,x_test,y_train,y_test = train_test_split(df['cgpa'].values,df['package'].values,train_size= 0.8 , random_state= True)\n",
        "x_train"
      ],
      "metadata": {
        "colab": {
          "base_uri": "https://localhost:8080/"
        },
        "id": "glCEeNN60Mxu",
        "outputId": "52652277-f268-42ce-cfa6-8b3c67b29ca7"
      },
      "execution_count": 15,
      "outputs": [
        {
          "output_type": "execute_result",
          "data": {
            "text/plain": [
              "array([7.76, 6.33, 8.11, 7.73, 5.84, 7.48, 5.84, 7.43, 6.31, 6.06, 7.69,\n",
              "       5.1 , 7.39, 6.47, 6.35, 7.14, 8.22, 6.13, 6.22, 7.91, 9.04, 6.51,\n",
              "       6.59, 5.95, 5.38, 7.89, 6.78, 6.66, 8.63, 5.11, 6.86, 4.26, 7.28,\n",
              "       5.95, 8.6 , 6.94, 8.94, 7.12, 6.79, 5.23, 7.08, 7.11, 6.1 , 5.12,\n",
              "       7.28, 6.93, 5.58, 5.84, 6.26, 7.87, 6.61, 5.99, 7.3 , 7.84, 7.94,\n",
              "       7.05, 6.93, 7.21, 7.57, 6.75, 6.97, 6.85, 6.22, 7.37, 7.82, 5.79,\n",
              "       4.79, 6.3 , 6.73, 8.58, 6.89, 6.98, 8.99, 7.6 , 8.2 , 8.13, 4.73,\n",
              "       6.68, 6.07, 6.34, 6.85, 7.9 , 5.66, 7.13, 4.85, 8.09, 6.19, 5.84,\n",
              "       9.06, 5.32, 6.96, 8.44, 5.88, 7.95, 7.33, 6.19, 5.91, 8.31, 6.22,\n",
              "       7.62, 6.12, 6.1 , 5.42, 7.35, 7.36, 7.25, 6.89, 8.93, 7.77, 7.63,\n",
              "       8.37, 8.31, 6.94, 7.66, 6.53, 7.42, 9.31, 8.87, 8.28, 6.37, 6.19,\n",
              "       7.36, 6.5 , 8.35, 7.04, 6.09, 5.61, 7.93, 5.12, 6.6 , 6.14, 5.48,\n",
              "       9.16, 6.75, 5.89, 6.76, 7.61, 7.11, 7.56, 9.58, 6.93, 6.47, 7.38,\n",
              "       7.19, 6.07, 6.71, 7.28, 8.15, 7.28, 7.2 , 7.47, 7.29, 6.17, 8.25,\n",
              "       7.18, 6.05, 7.14, 7.78, 7.91, 5.9 ])"
            ]
          },
          "metadata": {},
          "execution_count": 15
        }
      ]
    },
    {
      "cell_type": "code",
      "source": [
        "class Linear_regression():\n",
        "  def __init__(self):\n",
        "      self.m = None\n",
        "      self.b = None\n",
        "  def fit(self,x_train,y_train):\n",
        "      n = 0\n",
        "      d = 0\n",
        "      b = 0\n",
        "      for i in range(x_train.shape[0]):\n",
        "        n = n + ((y_train[i] - y_train.mean())*(x_train[i] - x_train.mean()))\n",
        "        d = d + ((x_train[i] - x_train.mean())*(x_train[i] - x_train.mean()))\n",
        "      self.m = n/d\n",
        "      b = b + y_train.mean() - self.m*x_train.mean()\n",
        "      self.b = b\n",
        "      print(self.m)\n",
        "      print(self.b)\n",
        "  def predict(self,x):\n",
        "       y = self.m * x + self.b\n",
        "       print(y)"
      ],
      "metadata": {
        "id": "zEpqHhxH0vph"
      },
      "execution_count": 28,
      "outputs": []
    },
    {
      "cell_type": "code",
      "source": [
        "lr = Linear_regression()\n",
        "lr.fit(x_train,y_train)"
      ],
      "metadata": {
        "colab": {
          "base_uri": "https://localhost:8080/"
        },
        "id": "j8r1weFA2JX5",
        "outputId": "b0534a7c-073b-4f86-d8f7-8c355a38a80a"
      },
      "execution_count": 25,
      "outputs": [
        {
          "output_type": "stream",
          "name": "stdout",
          "text": [
            "0.5815487650685075\n",
            "-1.0859839580358015\n"
          ]
        }
      ]
    },
    {
      "cell_type": "code",
      "source": [
        "x_test"
      ],
      "metadata": {
        "colab": {
          "base_uri": "https://localhost:8080/"
        },
        "id": "AKXQjayq5Rce",
        "outputId": "638281c5-0c0a-4d24-c55c-0bb0aa31d692"
      },
      "execution_count": 26,
      "outputs": [
        {
          "output_type": "execute_result",
          "data": {
            "text/plain": [
              "array([6.92, 9.38, 7.34, 5.13, 7.88, 7.63, 6.63, 6.94, 7.15, 8.65, 8.01,\n",
              "       6.94, 6.61, 6.42, 8.18, 7.4 , 8.71, 6.87, 5.64, 7.56, 9.26, 6.84,\n",
              "       5.09, 5.83, 8.1 , 5.53, 8.62, 5.94, 4.57, 5.42, 5.84, 8.21, 7.89,\n",
              "       7.09, 6.29, 5.98, 7.32, 8.44, 7.3 , 6.93])"
            ]
          },
          "metadata": {},
          "execution_count": 26
        }
      ]
    },
    {
      "cell_type": "code",
      "source": [
        "y_test"
      ],
      "metadata": {
        "colab": {
          "base_uri": "https://localhost:8080/"
        },
        "id": "sQuPTa_w5V11",
        "outputId": "8de401a8-c67b-448f-f0e0-c251050ca0f0"
      },
      "execution_count": 27,
      "outputs": [
        {
          "output_type": "execute_result",
          "data": {
            "text/plain": [
              "array([3.09, 4.02, 3.42, 1.37, 3.14, 3.96, 2.79, 3.57, 3.49, 3.52, 3.76,\n",
              "       2.98, 2.6 , 2.72, 3.76, 2.88, 4.08, 2.87, 2.1 , 3.31, 3.79, 2.35,\n",
              "       1.86, 2.42, 3.89, 2.55, 4.36, 2.24, 1.94, 2.16, 3.26, 4.08, 3.67,\n",
              "       3.64, 3.23, 2.84, 2.99, 4.03, 2.94, 2.51])"
            ]
          },
          "metadata": {},
          "execution_count": 27
        }
      ]
    },
    {
      "cell_type": "code",
      "source": [
        "lr.predict(6.2)"
      ],
      "metadata": {
        "colab": {
          "base_uri": "https://localhost:8080/"
        },
        "id": "bL55hSVu5YdF",
        "outputId": "06817bd6-6ef7-40c9-cdb2-fd2f3fffa3c4"
      },
      "execution_count": 36,
      "outputs": [
        {
          "output_type": "execute_result",
          "data": {
            "text/plain": [
              "np.float64(2.519618385388945)"
            ]
          },
          "metadata": {},
          "execution_count": 36
        }
      ]
    },
    {
      "cell_type": "code",
      "source": [
        "import matplotlib.pyplot as plt\n",
        "plt.title(\"Linear Regression\")\n",
        "plt.xlabel(\"CGPA\")\n",
        "plt.ylabel(\"Package\")\n",
        "plt.plot(x_train,lr.predict(x_train),color = 'red')\n",
        "plt.scatter(df['cgpa'],df['package'],color = 'green')"
      ],
      "metadata": {
        "colab": {
          "base_uri": "https://localhost:8080/",
          "height": 490
        },
        "id": "5FiNldc_54_u",
        "outputId": "233a3e04-0657-425d-8200-100add2aaabb"
      },
      "execution_count": 35,
      "outputs": [
        {
          "output_type": "execute_result",
          "data": {
            "text/plain": [
              "<matplotlib.collections.PathCollection at 0x7dbf6fedaed0>"
            ]
          },
          "metadata": {},
          "execution_count": 35
        },
        {
          "output_type": "display_data",
          "data": {
            "text/plain": [
              "<Figure size 640x480 with 1 Axes>"
            ],
            "image/png": "[encoded data removed]"
          },
          "metadata": {}
        }
      ]
    }
  ]
}